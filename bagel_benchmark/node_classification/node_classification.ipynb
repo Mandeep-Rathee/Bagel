{
  "cells": [
    {
      "cell_type": "code",
      "execution_count": 2,
      "metadata": {
        "colab": {
          "base_uri": "https://localhost:8080/"
        },
        "id": "PhzboazS0DAF",
        "outputId": "5a116054-8dc0-4f2e-b777-6a1de05b2dd6"
      },
      "outputs": [
        {
          "name": "stdout",
          "output_type": "stream",
          "text": [
            "1.11.0+cu113\n",
            "\u001b[K     |████████████████████████████████| 7.9 MB 26.1 MB/s \n",
            "\u001b[K     |████████████████████████████████| 3.5 MB 52.1 MB/s \n",
            "\u001b[?25h  Building wheel for torch-geometric (setup.py) ... \u001b[?25l\u001b[?25hdone\n"
          ]
        }
      ],
      "source": [
        "import os\n",
        "import torch\n",
        "os.environ['TORCH'] = torch.__version__\n",
        "print(torch.__version__)\n",
        "\n",
        "!pip install -q torch-scatter -f https://data.pyg.org/whl/torch-${TORCH}.html\n",
        "!pip install -q torch-sparse -f https://data.pyg.org/whl/torch-${TORCH}.html\n",
        "!pip install -q git+https://github.com/pyg-team/pytorch_geometric.git"
      ]
    },
    {
      "cell_type": "code",
      "execution_count": 3,
      "metadata": {
        "colab": {
          "base_uri": "https://localhost:8080/"
        },
        "id": "EzTZnKVn0ZXh",
        "outputId": "b2ed1682-0edd-4a0c-f5de-c69b67eb1e51"
      },
      "outputs": [
        {
          "name": "stderr",
          "output_type": "stream",
          "text": [
            "Downloading https://github.com/kimiyoung/planetoid/raw/master/data/ind.cora.x\n",
            "Downloading https://github.com/kimiyoung/planetoid/raw/master/data/ind.cora.tx\n",
            "Downloading https://github.com/kimiyoung/planetoid/raw/master/data/ind.cora.allx\n",
            "Downloading https://github.com/kimiyoung/planetoid/raw/master/data/ind.cora.y\n",
            "Downloading https://github.com/kimiyoung/planetoid/raw/master/data/ind.cora.ty\n",
            "Downloading https://github.com/kimiyoung/planetoid/raw/master/data/ind.cora.ally\n",
            "Downloading https://github.com/kimiyoung/planetoid/raw/master/data/ind.cora.graph\n",
            "Downloading https://github.com/kimiyoung/planetoid/raw/master/data/ind.cora.test.index\n",
            "Processing...\n",
            "Done!\n"
          ]
        }
      ],
      "source": [
        "from torch_geometric.datasets import Planetoid\n",
        "\n",
        "dataset = Planetoid(root='tmp', name='Cora')"
      ]
    },
    {
      "cell_type": "code",
      "execution_count": 4,
      "metadata": {
        "id": "SUZlJfPP0lTI"
      },
      "outputs": [],
      "source": [
        "\n",
        "import torch.nn.functional as F\n",
        "from torch.nn import Sequential, Linear, ReLU\n",
        "import torch_geometric\n",
        "from torch_geometric.nn import GCNConv"
      ]
    },
    {
      "cell_type": "code",
      "execution_count": 5,
      "metadata": {
        "id": "QI-mxgyT0yGP"
      },
      "outputs": [],
      "source": [
        "class GCNNet(torch.nn.Module):\n",
        "    def __init__(self, dataset):\n",
        "        super(GCNNet, self).__init__()\n",
        "        self.conv1 = GCNConv(dataset.num_node_features, 16)\n",
        "        self.conv2 = GCNConv(16, dataset.num_classes)\n",
        "\n",
        "    def forward(self, x, edge_index):\n",
        "        x = self.conv1(x, edge_index)\n",
        "        x = F.relu(x)\n",
        "        x = F.dropout(x, training=self.training)\n",
        "        x = self.conv2(x, edge_index)\n",
        "\n",
        "        return F.log_softmax(x, dim=1)\n",
        "\n"
      ]
    },
    {
      "cell_type": "code",
      "execution_count": 8,
      "metadata": {
        "id": "6DLA-rW-0_TR"
      },
      "outputs": [],
      "source": [
        "\n",
        "def retrieve_accuracy(model, data, test_mask=None, value=False):\n",
        "    _, pred = model(data.x, data.edge_index).max(dim=1)\n",
        "    if test_mask is None:\n",
        "        test_mask = data.test_mask\n",
        "    correct = float(pred[test_mask].eq(data.y[test_mask]).sum().item())\n",
        "    acc = correct / test_mask.sum().item()\n",
        "    if value:\n",
        "        return acc\n",
        "    else:\n",
        "        return 'Accuracy: {:.4f}'.format(acc)"
      ]
    },
    {
      "cell_type": "code",
      "execution_count": 9,
      "metadata": {
        "id": "D7qeW7TU1GoN"
      },
      "outputs": [],
      "source": [
        "def save_model(model, path):\n",
        "    torch.save(model.state_dict(), path)"
      ]
    },
    {
      "cell_type": "code",
      "execution_count": 10,
      "metadata": {
        "id": "5TJfpEoL03OY"
      },
      "outputs": [],
      "source": [
        "def train_model(model, data, epochs=200, lr=0.01, weight_decay=5e-4, clip=None, loss_function=\"nll_loss\",\n",
        "                epoch_save_path=None, no_output=False):\n",
        "    optimizer = torch.optim.Adam(model.parameters(), lr=lr, weight_decay=weight_decay)\n",
        "\n",
        "    accuracies = []\n",
        "\n",
        "    model.train()\n",
        "    for epoch in range(epochs):\n",
        "        optimizer.zero_grad()\n",
        "        out = model(data.x, data.edge_index)\n",
        "        if loss_function == \"nll_loss\":\n",
        "            loss = F.nll_loss(out[data.train_mask], data.y[data.train_mask])\n",
        "        elif loss_function == \"cross_entropy\":\n",
        "            loss = F.cross_entropy(out[data.train_mask], data.y[data.train_mask], size_average=True)\n",
        "        else:\n",
        "            raise Exception()\n",
        "        if clip is not None:\n",
        "            torch.nn.utils.clip_grad_norm(model.parameters(), clip)\n",
        "        loss.backward()\n",
        "        optimizer.step()\n",
        "\n",
        "        if epoch_save_path is not None:\n",
        "            # circumvent .pt ending\n",
        "            save_model(model, epoch_save_path[:-3] + \"_epoch_\" + str(epoch) + epoch_save_path[-3:])\n",
        "            accuracies.append(retrieve_accuracy(model, data, value=True))\n",
        "            print('Accuracy: {:.4f}'.format(accuracies[-1]), \"Epoch\", epoch)\n",
        "        else:\n",
        "            if epoch % 25 == 0 and not no_output:\n",
        "                print(retrieve_accuracy(model, data))\n",
        "\n",
        "    model.eval()\n",
        "\n",
        "    return accuracies"
      ]
    },
    {
      "cell_type": "code",
      "execution_count": 14,
      "metadata": {
        "colab": {
          "base_uri": "https://localhost:8080/"
        },
        "id": "913EOLJa1Mnf",
        "outputId": "592269b8-8f80-4fd7-991b-4ffa371490ac"
      },
      "outputs": [
        {
          "name": "stdout",
          "output_type": "stream",
          "text": [
            "Accuracy: 0.3480\n",
            "Accuracy: 0.7170\n",
            "Accuracy: 0.7210\n",
            "Accuracy: 0.7380\n",
            "Accuracy: 0.7630\n",
            "Accuracy: 0.7700\n",
            "Accuracy: 0.7580\n",
            "Accuracy: 0.7590\n",
            "Test Accuracy: 0.811\n"
          ]
        }
      ],
      "source": [
        "model = GCNNet(dataset)\n",
        "data = dataset[0]\n",
        "acc = train_model(model, data, epochs=200, lr=0.01, weight_decay=5e-4, clip=None, loss_function=\"nll_loss\",\n",
        "                epoch_save_path=None, no_output=False)\n",
        "test_acc =  retrieve_accuracy(model, data, test_mask=None, value=True)\n",
        "print(\"Test Accuracy:\",test_acc)"
      ]
    },
    {
      "cell_type": "code",
      "execution_count": null,
      "metadata": {
        "id": "5kjt06JF16R7"
      },
      "outputs": [],
      "source": []
    },
    {
      "cell_type": "code",
      "execution_count": 22,
      "metadata": {
        "id": "wT8KsvgK32TW"
      },
      "outputs": [],
      "source": [
        "def execute_model_with_gradient(model, node, x, edge_index):\n",
        "    ypred = model(x, edge_index)\n",
        "\n",
        "    predicted_labels = ypred.argmax(dim=-1)\n",
        "    predicted_label = predicted_labels[node]\n",
        "    logit = torch.nn.functional.softmax((ypred[node, :]).squeeze(), dim=0)\n",
        "\n",
        "    logit = logit[predicted_label]\n",
        "    loss = -torch.log(logit)\n",
        "    loss.backward()"
      ]
    },
    {
      "cell_type": "code",
      "execution_count": 23,
      "metadata": {
        "id": "-B1oqvph34oo"
      },
      "outputs": [],
      "source": [
        "def grad_node_explanation(model, node, x, edge_index):\n",
        "    model.zero_grad()\n",
        "\n",
        "    num_nodes, num_features = x.size()\n",
        "\n",
        "    node_grad = torch.nn.Parameter(torch.ones(num_nodes))\n",
        "    feature_grad = torch.nn.Parameter(torch.ones(num_features))\n",
        "\n",
        "    node_grad.requires_grad = True\n",
        "    feature_grad.requires_grad = True\n",
        "\n",
        "    mask = node_grad.unsqueeze(0).T.matmul(feature_grad.unsqueeze(0)).to(device)\n",
        "\n",
        "    execute_model_with_gradient(model, node, mask*x, edge_index)\n",
        "\n",
        "    node_mask = torch.abs(node_grad.grad).cpu().detach().numpy()\n",
        "    feature_mask = torch.abs(feature_grad.grad).cpu().detach().numpy()\n",
        "\n",
        "    return feature_mask, node_mask\n"
      ]
    },
    {
      "cell_type": "code",
      "execution_count": 28,
      "metadata": {
        "colab": {
          "base_uri": "https://localhost:8080/"
        },
        "id": "NA1Y8XYV39e0",
        "outputId": "43e35257-4f4d-4e51-c01f-a8802d55fe77"
      },
      "outputs": [
        {
          "name": "stdout",
          "output_type": "stream",
          "text": [
            "feature masks: [0. 0. 0. ... 0. 0. 0.]\n",
            "node masks: [0.0000000e+00 1.6197766e-04 3.0046589e-05 ... 0.0000000e+00 0.0000000e+00\n",
            " 0.0000000e+00]\n"
          ]
        }
      ],
      "source": [
        "device = torch.device('cuda' if torch.cuda.is_available() else 'cpu')\n",
        "\n",
        "feature_mask, node_mask = grad_node_explanation(model,1,data.x, data.edge_index)\n",
        "print(\"feature masks:\",feature_mask)\n",
        "print(\"node masks:\",node_mask)"
      ]
    },
    {
      "cell_type": "code",
      "execution_count": null,
      "metadata": {},
      "outputs": [],
      "source": [
        "import torch\n",
        "random_seed=1234\n",
        "num_nodes=10\n",
        "samples=5\n",
        "num_nodes_computation_graph = 5\n",
        "num_features=10\n",
        "device ='cpu'\n",
        "rng = torch.Generator(device=device)\n",
        "rng.manual_seed(random_seed)\n",
        "random_indices = torch.randint(num_nodes, (samples, num_nodes_computation_graph, num_features),\n",
        "                                generator=rng,\n",
        "                                device=device,\n",
        "                                )\n",
        "random_indices = random_indices.type(torch.int64)\n",
        "\n",
        "print(random_indices[0])\n",
        "\n",
        "full_feature_matrix = torch.rand(10,10)\n",
        "\n",
        "print(full_feature_matrix)\n",
        "random_features = torch.gather(full_feature_matrix,\n",
        "                                dim=0,\n",
        "                                index=random_indices[0, :, :])\n",
        "\n",
        "\n",
        "\n",
        "print(random_features)"
      ]
    },
    {
      "cell_type": "code",
      "execution_count": 2,
      "metadata": {},
      "outputs": [
        {
          "name": "stdout",
          "output_type": "stream",
          "text": [
            "tensor([15, 11,  6,  5, 16])\n",
            "tensor([0.4687, 0.4148, 0.7307, 0.0941, 0.6140, 0.8260, 0.9967, 0.5046, 0.5464,\n",
            "        0.8469, 0.9034, 0.0642, 0.8949, 0.3981, 0.0316, 0.2613, 0.6488, 0.9549,\n",
            "        0.0277, 0.0824])\n",
            "tensor([0.2613, 0.0642, 0.9967, 0.8260, 0.6488])\n"
          ]
        }
      ],
      "source": [
        "import torch\n",
        "random_seed=1234\n",
        "num_edges=20\n",
        "samples=5\n",
        "num_edges_computation_graph = 5\n",
        "device ='cpu'\n",
        "rng = torch.Generator(device=device)\n",
        "\n",
        "rng.manual_seed(random_seed)\n",
        "\n",
        "random_indices = torch.randint(num_edges, (samples, num_edges_computation_graph),\n",
        "                                generator=rng,\n",
        "                                device=device,\n",
        "                                )\n",
        "random_indices = random_indices.type(torch.int64)\n",
        "\n",
        "print(random_indices[0])\n",
        "\n",
        "full_edge_mask= torch.rand(20)\n",
        "\n",
        "print(full_edge_mask)\n",
        "random_edge_mask = torch.gather(full_edge_mask,\n",
        "                                dim=0,\n",
        "                                index=random_indices[0, :])\n",
        "\n",
        "\n",
        "\n",
        "print(random_edge_mask)"
      ]
    }
  ],
  "metadata": {
    "colab": {
      "name": "Untitled37.ipynb",
      "provenance": []
    },
    "kernelspec": {
      "display_name": "Python 3",
      "name": "python3"
    },
    "language_info": {
      "codemirror_mode": {
        "name": "ipython",
        "version": 3
      },
      "file_extension": ".py",
      "mimetype": "text/x-python",
      "name": "python",
      "nbconvert_exporter": "python",
      "pygments_lexer": "ipython3",
      "version": "3.8.18"
    }
  },
  "nbformat": 4,
  "nbformat_minor": 0
}
